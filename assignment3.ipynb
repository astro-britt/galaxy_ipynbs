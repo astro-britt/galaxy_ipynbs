{
 "cells": [
  {
   "cell_type": "markdown",
   "metadata": {},
   "source": [
    "# Galaxies assignment 3\n",
    "Brittany Howard\n",
    "\n",
    "Due 21 Nov 17"
   ]
  },
  {
   "cell_type": "markdown",
   "metadata": {},
   "source": [
    "## Question 1\n",
    "\n",
    "Use the expression given in your notes to estimate dynamical friction timescales for the LMC and SMC. Conduct a short literature review to obtain values for the principal parameters and state any assumptions you employ. Present your quantitative analysis and supporting references.\n"
   ]
  },
  {
   "cell_type": "markdown",
   "metadata": {},
   "source": [
    "The notes give the following expressing for the merging timescale due to dynamical friction:\n",
    "\n",
    "$t_{merge} \\approx \\frac{v}{dv/dt} = \\frac{v^3}{4\\pi G^2 M_g \\rho^*}$\n",
    "\n",
    "We know $G = 6.67\\times10^{-11}$ m$^3$kg$^{-1}$s$^{-2}$. We want the timescale for each of these glaxies to merge with the milky way. So for each of the two galaxies we need\n",
    "\n",
    "* $M_{gal}$: mass of the satellite galaxy\n",
    "* $\\rho^*$: density of the milky way, equal to $nm^*$.\n",
    "* $v$: the speed of the satellite galaxy relative to the milky way\n",
    "\n",
    "To get $\\rho^*$, we can use the milky way's rotation curve at the radius of the satellite to compute the total mass and basic geometry to get the volume (as we did in the notes). So we will also need the milky way's rotation curve as well as its distance $r$ from each satellite. \n",
    "\n",
    "$\\rho^*=\\frac{m(r)}{V(r)}$, where $r$ is the distance between the center of the MW and the satellite galaxy in question. We know that $V(r)=\\frac{4}{3\\pi r^3}$, and we can use the rotation curve to get $m(r)$ because $m(r) = \\frac{v^2R}{G}$. If we look at Table 2 in this article https://arxiv.org/pdf/1310.2659.pdf, we can see some sample velocities corresponding to different radii.\n",
    "\n",
    "To find $r$, we need the distance between the MW and each molecular cloud.\n",
    "\n",
    "Let's check the literature and see what we can find out.\n",
    "\n",
    "* According to Stanimirović et al. (2004), the mass of the SMC is $2.4\\times 10^9$ solar masses, assuming no dark matter halo is present in the SMC. This gives $M_{gal,SMC}=4.772\\times 10^{39}$ kg.\n",
    "http://adsabs.harvard.edu/cgi-bin/bib_query?2004ApJ...604..176S\n",
    "* According to Kim et al. (1998), the mass of the LMC is $3.5 \\times 10^9$ solar masses, assuming that we are using all mass within a radius of 4 kpc. This gives $M_{gal,LMC}=6.96\\times 10^{39}$ kg.\n",
    "http://adsabs.harvard.edu/cgi-bin/bib_query?1998ApJ...503..674K\n",
    "* The three-dimensional motion of the LMC with respect to the Milky Way is given by $v_{LMC} = 321 ± 23$ kms$^{-1}$ according to Besla (2015). This gives $v_{LMC} = 321000$ ms$^{-1}$. https://arxiv.org/pdf/1511.03346.pdf\n",
    "* Besla (2015) says that the SMC is moving at 217 ± 26 km/s with respect to the MW, giving $v_{SMC}=217000$ m/s. https://arxiv.org/pdf/1511.03346.pdf\n",
    "* $r_{LMC}$ is given as the distance modulus $\\mu$, with \"K- and H-band values of 18.47±0.02 and 18.49±0.06\" by https://arxiv.org/pdf/1109.4800.pdf. If we assume the k-band distance is the true one and that Earth is located at the center of the milky way, then we have $r = 10^{\\mu/5 +1}$, with $r$ in parsecs. This gives $r_{LMC}=49.43$ kpc. If we look at Table 2 from https://arxiv.org/pdf/1310.2659.pdf, and we assume that $r_{LMC}=49.47$ kpc$=1.53 \\times 10^{21}$ m, then we obtain $v_{MW,LMC}=178.58 \\pm{17.63}$ km/s for the rotation speed of the milky way at the radius of the LMC. Then using $m(r) = \\frac{v^2R}{G}$, we get $m_{MW,LMC} = 7.315 \\times 10^{41}$kg. We can now solve for the volume of the MW at this radius and get $V(MW,LMC)=1.500\\times10^{64}$m$^3$. Dividing gives $\\rho^*_{MW,LMC}=4.877\\times10^{-23}$ kg/m$^3$.\n",
    "* Now repeating the process for the SMC, \n",
    "\n",
    "\n",
    "Finally, we can calculate the \n",
    "http://adsabs.harvard.edu/cgi-bin/bib_query?1998ApJ...503..674K\n"
   ]
  },
  {
   "cell_type": "code",
   "execution_count": 3,
   "metadata": {
    "collapsed": true
   },
   "outputs": [],
   "source": [
    "import astropy "
   ]
  },
  {
   "cell_type": "code",
   "execution_count": 4,
   "metadata": {
    "collapsed": true
   },
   "outputs": [],
   "source": [
    "from astropy.cosmology import WMAP7 as cosmo"
   ]
  },
  {
   "cell_type": "code",
   "execution_count": 5,
   "metadata": {},
   "outputs": [
    {
     "data": {
      "text/latex": [
       "$1.2352255 \\; \\mathrm{Mpc}$"
      ],
      "text/plain": [
       "<Quantity 1.2352255398197194 Mpc>"
      ]
     },
     "execution_count": 5,
     "metadata": {},
     "output_type": "execute_result"
    }
   ],
   "source": [
    "cosmo.luminosity_distance(z=.000290)"
   ]
  },
  {
   "cell_type": "code",
   "execution_count": 3,
   "metadata": {},
   "outputs": [
    {
     "ename": "TypeError",
     "evalue": "_warning() takes from 1 to 4 positional arguments but 6 were given",
     "output_type": "error",
     "traceback": [
      "\u001b[0;31m---------------------------------------------------------------------------\u001b[0m",
      "\u001b[0;31mTypeError\u001b[0m                                 Traceback (most recent call last)",
      "\u001b[0;32m<ipython-input-3-e7920b13ad07>\u001b[0m in \u001b[0;36m<module>\u001b[0;34m()\u001b[0m\n\u001b[1;32m      1\u001b[0m \u001b[0;32mimport\u001b[0m \u001b[0mgalpy\u001b[0m\u001b[0;34m\u001b[0m\u001b[0m\n\u001b[0;32m----> 2\u001b[0;31m \u001b[0;32mfrom\u001b[0m \u001b[0mgalpy\u001b[0m \u001b[0;32mimport\u001b[0m \u001b[0mpotential\u001b[0m\u001b[0;34m\u001b[0m\u001b[0m\n\u001b[0m",
      "\u001b[0;32m/Users/brittanyhoward/anaconda/lib/python3.6/site-packages/galpy/potential.py\u001b[0m in \u001b[0;36m<module>\u001b[0;34m()\u001b[0m\n\u001b[1;32m      1\u001b[0m \u001b[0;32mimport\u001b[0m \u001b[0mwarnings\u001b[0m\u001b[0;34m\u001b[0m\u001b[0m\n\u001b[1;32m      2\u001b[0m \u001b[0;32mfrom\u001b[0m \u001b[0mgalpy\u001b[0m\u001b[0;34m.\u001b[0m\u001b[0mutil\u001b[0m \u001b[0;32mimport\u001b[0m \u001b[0mgalpyWarning\u001b[0m\u001b[0;34m\u001b[0m\u001b[0m\n\u001b[0;32m----> 3\u001b[0;31m \u001b[0mwarnings\u001b[0m\u001b[0;34m.\u001b[0m\u001b[0mwarn\u001b[0m\u001b[0;34m(\u001b[0m\u001b[0;34m\"A major change in versions > 1.1 is that all galpy.potential functions and methods take the potential as the first argument; previously methods such as evaluatePotentials, evaluateDensities, etc. would be called with (R,z,Pot), now they are called as (Pot,R,z) for greater consistency across the codebase\"\u001b[0m\u001b[0;34m,\u001b[0m\u001b[0mgalpyWarning\u001b[0m\u001b[0;34m)\u001b[0m\u001b[0;34m\u001b[0m\u001b[0m\n\u001b[0m\u001b[1;32m      4\u001b[0m \u001b[0;32mfrom\u001b[0m \u001b[0mgalpy\u001b[0m\u001b[0;34m.\u001b[0m\u001b[0mpotential_src\u001b[0m \u001b[0;32mimport\u001b[0m \u001b[0mPotential\u001b[0m\u001b[0;34m\u001b[0m\u001b[0m\n\u001b[1;32m      5\u001b[0m \u001b[0;32mfrom\u001b[0m \u001b[0mgalpy\u001b[0m\u001b[0;34m.\u001b[0m\u001b[0mpotential_src\u001b[0m \u001b[0;32mimport\u001b[0m \u001b[0mplanarPotential\u001b[0m\u001b[0;34m\u001b[0m\u001b[0m\n",
      "\u001b[0;32m/Users/brittanyhoward/anaconda/lib/python3.6/warnings.py\u001b[0m in \u001b[0;36m_showwarnmsg\u001b[0;34m(msg)\u001b[0m\n\u001b[1;32m     97\u001b[0m \u001b[0;34m\u001b[0m\u001b[0m\n\u001b[1;32m     98\u001b[0m             sw(msg.message, msg.category, msg.filename, msg.lineno,\n\u001b[0;32m---> 99\u001b[0;31m                msg.file, msg.line)\n\u001b[0m\u001b[1;32m    100\u001b[0m             \u001b[0;32mreturn\u001b[0m\u001b[0;34m\u001b[0m\u001b[0m\n\u001b[1;32m    101\u001b[0m     \u001b[0m_showwarnmsg_impl\u001b[0m\u001b[0;34m(\u001b[0m\u001b[0mmsg\u001b[0m\u001b[0;34m)\u001b[0m\u001b[0;34m\u001b[0m\u001b[0m\n",
      "\u001b[0;31mTypeError\u001b[0m: _warning() takes from 1 to 4 positional arguments but 6 were given"
     ]
    }
   ],
   "source": [
    "import galpy\n",
    "from galpy import potential"
   ]
  },
  {
   "cell_type": "code",
   "execution_count": 6,
   "metadata": {},
   "outputs": [
    {
     "ename": "TypeError",
     "evalue": "_warning() takes from 1 to 4 positional arguments but 6 were given",
     "output_type": "error",
     "traceback": [
      "\u001b[0;31m---------------------------------------------------------------------------\u001b[0m",
      "\u001b[0;31mTypeError\u001b[0m                                 Traceback (most recent call last)",
      "\u001b[0;32m<ipython-input-6-b79715f83638>\u001b[0m in \u001b[0;36m<module>\u001b[0;34m()\u001b[0m\n\u001b[0;32m----> 1\u001b[0;31m \u001b[0;32mfrom\u001b[0m \u001b[0mgalpy\u001b[0m \u001b[0;32mimport\u001b[0m \u001b[0mpotential\u001b[0m\u001b[0;34m\u001b[0m\u001b[0m\n\u001b[0m",
      "\u001b[0;32m/Users/brittanyhoward/anaconda/lib/python3.6/site-packages/galpy/potential.py\u001b[0m in \u001b[0;36m<module>\u001b[0;34m()\u001b[0m\n\u001b[1;32m      1\u001b[0m \u001b[0;32mimport\u001b[0m \u001b[0mwarnings\u001b[0m\u001b[0;34m\u001b[0m\u001b[0m\n\u001b[1;32m      2\u001b[0m \u001b[0;32mfrom\u001b[0m \u001b[0mgalpy\u001b[0m\u001b[0;34m.\u001b[0m\u001b[0mutil\u001b[0m \u001b[0;32mimport\u001b[0m \u001b[0mgalpyWarning\u001b[0m\u001b[0;34m\u001b[0m\u001b[0m\n\u001b[0;32m----> 3\u001b[0;31m \u001b[0mwarnings\u001b[0m\u001b[0;34m.\u001b[0m\u001b[0mwarn\u001b[0m\u001b[0;34m(\u001b[0m\u001b[0;34m\"A major change in versions > 1.1 is that all galpy.potential functions and methods take the potential as the first argument; previously methods such as evaluatePotentials, evaluateDensities, etc. would be called with (R,z,Pot), now they are called as (Pot,R,z) for greater consistency across the codebase\"\u001b[0m\u001b[0;34m,\u001b[0m\u001b[0mgalpyWarning\u001b[0m\u001b[0;34m)\u001b[0m\u001b[0;34m\u001b[0m\u001b[0m\n\u001b[0m\u001b[1;32m      4\u001b[0m \u001b[0;32mfrom\u001b[0m \u001b[0mgalpy\u001b[0m\u001b[0;34m.\u001b[0m\u001b[0mpotential_src\u001b[0m \u001b[0;32mimport\u001b[0m \u001b[0mPotential\u001b[0m\u001b[0;34m\u001b[0m\u001b[0m\n\u001b[1;32m      5\u001b[0m \u001b[0;32mfrom\u001b[0m \u001b[0mgalpy\u001b[0m\u001b[0;34m.\u001b[0m\u001b[0mpotential_src\u001b[0m \u001b[0;32mimport\u001b[0m \u001b[0mplanarPotential\u001b[0m\u001b[0;34m\u001b[0m\u001b[0m\n",
      "\u001b[0;32m/Users/brittanyhoward/anaconda/lib/python3.6/warnings.py\u001b[0m in \u001b[0;36m_showwarnmsg\u001b[0;34m(msg)\u001b[0m\n\u001b[1;32m     97\u001b[0m \u001b[0;34m\u001b[0m\u001b[0m\n\u001b[1;32m     98\u001b[0m             sw(msg.message, msg.category, msg.filename, msg.lineno,\n\u001b[0;32m---> 99\u001b[0;31m                msg.file, msg.line)\n\u001b[0m\u001b[1;32m    100\u001b[0m             \u001b[0;32mreturn\u001b[0m\u001b[0;34m\u001b[0m\u001b[0m\n\u001b[1;32m    101\u001b[0m     \u001b[0m_showwarnmsg_impl\u001b[0m\u001b[0;34m(\u001b[0m\u001b[0mmsg\u001b[0m\u001b[0;34m)\u001b[0m\u001b[0;34m\u001b[0m\u001b[0m\n",
      "\u001b[0;31mTypeError\u001b[0m: _warning() takes from 1 to 4 positional arguments but 6 were given"
     ]
    }
   ],
   "source": [
    "from galpy import potential "
   ]
  },
  {
   "cell_type": "code",
   "execution_count": null,
   "metadata": {
    "collapsed": true
   },
   "outputs": [],
   "source": []
  }
 ],
 "metadata": {
  "kernelspec": {
   "display_name": "Python 3",
   "language": "python",
   "name": "python3"
  },
  "language_info": {
   "codemirror_mode": {
    "name": "ipython",
    "version": 3
   },
   "file_extension": ".py",
   "mimetype": "text/x-python",
   "name": "python",
   "nbconvert_exporter": "python",
   "pygments_lexer": "ipython3",
   "version": "3.6.1"
  }
 },
 "nbformat": 4,
 "nbformat_minor": 2
}

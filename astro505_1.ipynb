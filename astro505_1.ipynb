{
 "cells": [
  {
   "cell_type": "markdown",
   "metadata": {},
   "source": [
    "# Astro505 assignment 1\n",
    "Brittany Howard\n",
    "\n",
    "Due 3 October, 2pm."
   ]
  },
  {
   "cell_type": "code",
   "execution_count": 30,
   "metadata": {},
   "outputs": [
    {
     "data": {
      "text/plain": [
       "'1.0'"
      ]
     },
     "execution_count": 30,
     "metadata": {},
     "output_type": "execute_result"
    }
   ],
   "source": [
    "import numpy as np\n",
    "import sympy\n",
    "sympy.__version__"
   ]
  },
  {
   "cell_type": "code",
   "execution_count": 17,
   "metadata": {
    "collapsed": true
   },
   "outputs": [],
   "source": [
    "sympy.init_printing()"
   ]
  },
  {
   "cell_type": "markdown",
   "metadata": {},
   "source": [
    "## Question 1\n",
    "* Determine the total luminosity, half-light radius, Kron and Petrosian radii of an exponential and de Vaucouleurs intensity profile. "
   ]
  },
  {
   "cell_type": "code",
   "execution_count": 52,
   "metadata": {},
   "outputs": [],
   "source": [
    "# I: intensity\n",
    "# R: radius\n",
    "# I0: central intensity\n",
    "# a: scale length\n",
    "\n",
    "# define symbols\n",
    "\n",
    "R = sympy.Symbol('R')\n",
    "a = sympy.Symbol('a')\n",
    "I0 = sympy.Symbol('I0')\n",
    "\n",
    "# devaucouleurs profile\n",
    "devauc = I0 * np.exp(−(R/a)** (1/4))\n",
    "\n",
    "# exponential (spiral) profile\n",
    "exp = I0 * np.exp(R/a)"
   ]
  },
  {
   "cell_type": "markdown",
   "metadata": {},
   "source": [
    "What should I use for $I_0$ and a? I guess I need to leave them symbolic...\n",
    "\n",
    "\n",
    "Total luminosity $L_T =   \\int_0^\\infty 2\\pi RI(R)dR$\n",
    "\n",
    "Do the integral:"
   ]
  },
  {
   "cell_type": "code",
   "execution_count": 56,
   "metadata": {},
   "outputs": [],
   "source": [
    "totalL_deVauc = sympy.integrate(2 * sympy.pi * R * devauc, (R, 0, np.inf))"
   ]
  },
  {
   "cell_type": "code",
   "execution_count": 57,
   "metadata": {},
   "outputs": [
    {
     "name": "stdout",
     "output_type": "stream",
     "text": [
      "Total luminosity for a de Vaucouleurs profile:\n"
     ]
    },
    {
     "data": {
      "image/png": "[encoded data removed]",
      "text/latex": [
       "$$2 \\pi I_{0} \\int_{0}^{\\infty} R e^{- \\left(\\frac{R}{a}\\right)^{0.25}}\\, dR$$"
      ],
      "text/plain": [
       "       +inf               \n",
       "        ⌠                 \n",
       "        ⎮          0.25   \n",
       "        ⎮       ⎛R⎞       \n",
       "        ⎮      -⎜─⎟       \n",
       "        ⎮       ⎝a⎠       \n",
       "2⋅π⋅I₀⋅ ⎮   R⋅ℯ         dR\n",
       "        ⌡                 \n",
       "        0                 "
      ]
     },
     "execution_count": 57,
     "metadata": {},
     "output_type": "execute_result"
    }
   ],
   "source": [
    "print('Total luminosity for a de Vaucouleurs profile:')\n",
    "totalL_deVauc"
   ]
  },
  {
   "cell_type": "markdown",
   "metadata": {},
   "source": [
    "and for exponential:"
   ]
  },
  {
   "cell_type": "code",
   "execution_count": 58,
   "metadata": {
    "collapsed": true
   },
   "outputs": [],
   "source": [
    "totalL_exp = sympy.integrate(2 * sympy.pi * R * exp, (R, 0, np.inf))"
   ]
  },
  {
   "cell_type": "code",
   "execution_count": 59,
   "metadata": {},
   "outputs": [
    {
     "name": "stdout",
     "output_type": "stream",
     "text": [
      "Total luminosity for an exponential profile:\n"
     ]
    },
    {
     "data": {
      "image/png": "[encoded data removed]",
      "text/latex": [
       "$$2 \\pi I_{0} a^{2} + \\left(- 2 \\pi I_{0} a^{2} + \\infty \\pi I_{0} a\\right) e^{\\frac{\\infty}{a}}$$"
      ],
      "text/plain": [
       "                                         +inf\n",
       "                                         ────\n",
       "        2   ⎛          2              ⎞   a  \n",
       "2⋅π⋅I₀⋅a  + ⎝- 2⋅π⋅I₀⋅a  + +inf⋅π⋅I₀⋅a⎠⋅ℯ    "
      ]
     },
     "execution_count": 59,
     "metadata": {},
     "output_type": "execute_result"
    }
   ],
   "source": [
    "print('Total luminosity for an exponential profile:')\n",
    "totalL_exp"
   ]
  },
  {
   "cell_type": "markdown",
   "metadata": {},
   "source": [
    "Now I'll look at half-light radii,  $R_{1/2} = \\frac{L_T}{2}$."
   ]
  },
  {
   "cell_type": "code",
   "execution_count": 60,
   "metadata": {
    "collapsed": true
   },
   "outputs": [],
   "source": [
    "halfLight_deVauc = sympy.sympify(totalL_deVauc / 2)\n",
    "halfLight_exp = sympy.sympify(totalL_exp / 2)"
   ]
  },
  {
   "cell_type": "code",
   "execution_count": 61,
   "metadata": {},
   "outputs": [
    {
     "name": "stdout",
     "output_type": "stream",
     "text": [
      "Half light radius for a de Vaucouleurs profile:\n"
     ]
    },
    {
     "data": {
      "image/png": "[encoded data removed]",
      "text/latex": [
       "$$\\pi I_{0} \\int_{0}^{\\infty} R e^{- \\left(\\frac{R}{a}\\right)^{0.25}}\\, dR$$"
      ],
      "text/plain": [
       "     +inf               \n",
       "      ⌠                 \n",
       "      ⎮          0.25   \n",
       "      ⎮       ⎛R⎞       \n",
       "      ⎮      -⎜─⎟       \n",
       "      ⎮       ⎝a⎠       \n",
       "π⋅I₀⋅ ⎮   R⋅ℯ         dR\n",
       "      ⌡                 \n",
       "      0                 "
      ]
     },
     "execution_count": 61,
     "metadata": {},
     "output_type": "execute_result"
    }
   ],
   "source": [
    "print('Half light radius for a de Vaucouleurs profile:')\n",
    "halfLight_deVauc"
   ]
  },
  {
   "cell_type": "code",
   "execution_count": 62,
   "metadata": {},
   "outputs": [
    {
     "name": "stdout",
     "output_type": "stream",
     "text": [
      "Half light radius for an exponential profile:\n"
     ]
    },
    {
     "data": {
      "image/png": "[encoded data removed]",
      "text/latex": [
       "$$\\pi I_{0} a^{2} + \\frac{e^{\\frac{\\infty}{a}}}{2} \\left(- 2 \\pi I_{0} a^{2} + \\infty \\pi I_{0} a\\right)$$"
      ],
      "text/plain": [
       "                                       +inf\n",
       "                                       ────\n",
       "          ⎛          2              ⎞   a  \n",
       "      2   ⎝- 2⋅π⋅I₀⋅a  + +inf⋅π⋅I₀⋅a⎠⋅ℯ    \n",
       "π⋅I₀⋅a  + ─────────────────────────────────\n",
       "                          2                "
      ]
     },
     "execution_count": 62,
     "metadata": {},
     "output_type": "execute_result"
    }
   ],
   "source": [
    "print('Half light radius for an exponential profile:')\n",
    "halfLight_exp"
   ]
  },
  {
   "cell_type": "markdown",
   "metadata": {},
   "source": [
    "Now Kron radius, $R_K = \\frac{\\int R^2I(R)dR}{\\int RI(R)dR}$."
   ]
  },
  {
   "cell_type": "code",
   "execution_count": 54,
   "metadata": {
    "collapsed": true
   },
   "outputs": [],
   "source": [
    "kronTop_devauc = sympy.Integral(R**2 * devauc, R)\n",
    "kronBottom_devauc = sympy.Integral(R * devauc, R)\n",
    "kron_devauc = kronTop_devauc / kronBottom_devauc"
   ]
  },
  {
   "cell_type": "code",
   "execution_count": 64,
   "metadata": {},
   "outputs": [
    {
     "name": "stdout",
     "output_type": "stream",
     "text": [
      "Kron radius for a de Vaucouleurs profile:\n"
     ]
    },
    {
     "data": {
      "image/png": "[encoded data removed]",
      "text/latex": [
       "$$\\frac{\\int I_{0} R^{2} e^{- \\left(\\frac{R}{a}\\right)^{0.25}}\\, dR}{\\int I_{0} R e^{- \\left(\\frac{R}{a}\\right)^{0.25}}\\, dR}$$"
      ],
      "text/plain": [
       "⌠                   \n",
       "⎮            0.25   \n",
       "⎮         ⎛R⎞       \n",
       "⎮        -⎜─⎟       \n",
       "⎮     2   ⎝a⎠       \n",
       "⎮ I₀⋅R ⋅ℯ         dR\n",
       "⌡                   \n",
       "────────────────────\n",
       "⌠                   \n",
       "⎮           0.25    \n",
       "⎮        ⎛R⎞        \n",
       "⎮       -⎜─⎟        \n",
       "⎮        ⎝a⎠        \n",
       "⎮ I₀⋅R⋅ℯ         dR \n",
       "⌡                   "
      ]
     },
     "execution_count": 64,
     "metadata": {},
     "output_type": "execute_result"
    }
   ],
   "source": [
    "print('Kron radius for a de Vaucouleurs profile:')\n",
    "kron_devauc"
   ]
  },
  {
   "cell_type": "code",
   "execution_count": 65,
   "metadata": {
    "collapsed": true
   },
   "outputs": [],
   "source": [
    "kronTop_exp = sympy.Integral(R**2 * exp, R)\n",
    "kronBottom_exp = sympy.Integral(R * exp, R)\n",
    "kron_exp = kronTop_exp / kronBottom_exp"
   ]
  },
  {
   "cell_type": "code",
   "execution_count": 66,
   "metadata": {},
   "outputs": [
    {
     "name": "stdout",
     "output_type": "stream",
     "text": [
      "Kron radius for an exponential profile:\n"
     ]
    },
    {
     "data": {
      "image/png": "[encoded data removed]",
      "text/latex": [
       "$$\\frac{\\int I_{0} R^{2} e^{\\frac{R}{a}}\\, dR}{\\int I_{0} R e^{\\frac{R}{a}}\\, dR}$$"
      ],
      "text/plain": [
       "⌠            \n",
       "⎮        R   \n",
       "⎮        ─   \n",
       "⎮     2  a   \n",
       "⎮ I₀⋅R ⋅ℯ  dR\n",
       "⌡            \n",
       "─────────────\n",
       " ⌠           \n",
       " ⎮       R   \n",
       " ⎮       ─   \n",
       " ⎮       a   \n",
       " ⎮ I₀⋅R⋅ℯ  dR\n",
       " ⌡           "
      ]
     },
     "execution_count": 66,
     "metadata": {},
     "output_type": "execute_result"
    }
   ],
   "source": [
    "print('Kron radius for an exponential profile:')\n",
    "kron_exp"
   ]
  },
  {
   "cell_type": "markdown",
   "metadata": {},
   "source": [
    "* What multiples of the Kron or Petrosian radius contain 90% of the total luminosity for each profile? "
   ]
  },
  {
   "cell_type": "code",
   "execution_count": null,
   "metadata": {
    "collapsed": true
   },
   "outputs": [],
   "source": []
  },
  {
   "cell_type": "code",
   "execution_count": null,
   "metadata": {
    "collapsed": true
   },
   "outputs": [],
   "source": []
  },
  {
   "cell_type": "markdown",
   "metadata": {},
   "source": [
    "* What multiples of the Kron or Petrosian radius contain 90% of the total luminosity for each profile? "
   ]
  },
  {
   "cell_type": "code",
   "execution_count": null,
   "metadata": {
    "collapsed": true
   },
   "outputs": [],
   "source": []
  },
  {
   "cell_type": "markdown",
   "metadata": {},
   "source": [
    "* Does the value of the Kron and Petrosian radius change if, instead of integrating the profile to infinity one assumes that only a limited part of the source lies above the given isophotal limit of a detector? You may assume circular sources."
   ]
  },
  {
   "cell_type": "code",
   "execution_count": null,
   "metadata": {
    "collapsed": true
   },
   "outputs": [],
   "source": []
  },
  {
   "cell_type": "markdown",
   "metadata": {},
   "source": [
    "## Question 2\n",
    "* What is a typical galaxy luminosity? It is often quoted as L∗, the characteristic luminosity of the galaxy luminosity function. \n",
    "* How does this luminosity compare to the value you obtain, say, by determining the luminosity that generates the median luminosity density of galaxies, i.e. galaxies brighter than this limit contribute 50% of the total galaxy luminosity density? \n",
    "* Do you have to assume a sensible lower limit on the luminosity of a galaxy to compute this luminosity? Take suitable luminosity function parameters from the course notes."
   ]
  },
  {
   "cell_type": "code",
   "execution_count": null,
   "metadata": {
    "collapsed": true
   },
   "outputs": [],
   "source": []
  },
  {
   "cell_type": "markdown",
   "metadata": {},
   "source": [
    "## Question 3\n",
    "* Determine the value of the SDSS g-band and r-band k-correction for an ES0-type and Scd- type galaxy spectrum over the redshift interval 0 < z < 1.\n",
    "* Plot these functions on one suitably labelled graph. You may download the filter and SED files from the course web site."
   ]
  },
  {
   "cell_type": "code",
   "execution_count": null,
   "metadata": {
    "collapsed": true
   },
   "outputs": [],
   "source": []
  }
 ],
 "metadata": {
  "kernelspec": {
   "display_name": "Python 3",
   "language": "python",
   "name": "python3"
  },
  "language_info": {
   "codemirror_mode": {
    "name": "ipython",
    "version": 3
   },
   "file_extension": ".py",
   "mimetype": "text/x-python",
   "name": "python",
   "nbconvert_exporter": "python",
   "pygments_lexer": "ipython3",
   "version": "3.6.1"
  }
 },
 "nbformat": 4,
 "nbformat_minor": 2
}
